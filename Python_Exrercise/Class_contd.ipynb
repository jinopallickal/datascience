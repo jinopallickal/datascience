{
 "cells": [
  {
   "cell_type": "code",
   "execution_count": 7,
   "metadata": {},
   "outputs": [],
   "source": [
    "class Person:\n",
    "    #Constructor\n",
    "    def __init__(self,n,p,i):\n",
    "        self.name=n\n",
    "        self.personality=p\n",
    "        self.is_sitting=i\n",
    "    #functions\n",
    "    def sit_down(self):\n",
    "        self.is_sitting_sitting = True\n",
    "        \n",
    "    def stand_up(self):\n",
    "        self.is_sitting = False\n",
    "        \n",
    "    def introduce_self(self):\n",
    "        print(\"my name is \" + self.name)"
   ]
  },
  {
   "cell_type": "code",
   "execution_count": 8,
   "metadata": {},
   "outputs": [],
   "source": [
    "p1=Person(\"Alice\",\"aggressive\",False)\n",
    "p2=Person(\"Becky\",\"talkative\",True)\n",
    "\n"
   ]
  },
  {
   "cell_type": "code",
   "execution_count": 10,
   "metadata": {},
   "outputs": [
    {
     "name": "stdout",
     "output_type": "stream",
     "text": [
      "my name is Alice\n",
      "my name is Becky\n"
     ]
    }
   ],
   "source": [
    "p1.introduce_self()\n",
    "p2.introduce_self()"
   ]
  },
  {
   "cell_type": "code",
   "execution_count": null,
   "metadata": {},
   "outputs": [],
   "source": []
  }
 ],
 "metadata": {
  "kernelspec": {
   "display_name": "Python 3",
   "language": "python",
   "name": "python3"
  },
  "language_info": {
   "codemirror_mode": {
    "name": "ipython",
    "version": 3
   },
   "file_extension": ".py",
   "mimetype": "text/x-python",
   "name": "python",
   "nbconvert_exporter": "python",
   "pygments_lexer": "ipython3",
   "version": "3.6.9"
  }
 },
 "nbformat": 4,
 "nbformat_minor": 2
}
