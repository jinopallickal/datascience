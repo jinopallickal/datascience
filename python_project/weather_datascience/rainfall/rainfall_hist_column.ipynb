{
 "cells": [
  {
   "cell_type": "code",
   "execution_count": 1,
   "metadata": {},
   "outputs": [],
   "source": [
    "import pandas as pd"
   ]
  },
  {
   "cell_type": "code",
   "execution_count": 2,
   "metadata": {},
   "outputs": [],
   "source": [
    "from matplotlib import pyplot as plt"
   ]
  },
  {
   "cell_type": "code",
   "execution_count": 3,
   "metadata": {},
   "outputs": [],
   "source": [
    "file = pd.read_csv(\"datafile.csv\")"
   ]
  },
  {
   "cell_type": "code",
   "execution_count": 4,
   "metadata": {},
   "outputs": [
    {
     "data": {
      "text/html": [
       "<div>\n",
       "<style scoped>\n",
       "    .dataframe tbody tr th:only-of-type {\n",
       "        vertical-align: middle;\n",
       "    }\n",
       "\n",
       "    .dataframe tbody tr th {\n",
       "        vertical-align: top;\n",
       "    }\n",
       "\n",
       "    .dataframe thead th {\n",
       "        text-align: right;\n",
       "    }\n",
       "</style>\n",
       "<table border=\"1\" class=\"dataframe\">\n",
       "  <thead>\n",
       "    <tr style=\"text-align: right;\">\n",
       "      <th></th>\n",
       "      <th>YEAR</th>\n",
       "      <th>JAN</th>\n",
       "      <th>FEB</th>\n",
       "      <th>MAR</th>\n",
       "      <th>APR</th>\n",
       "      <th>MAY</th>\n",
       "      <th>JUN</th>\n",
       "      <th>JUL</th>\n",
       "      <th>AUG</th>\n",
       "      <th>SEP</th>\n",
       "      <th>OCT</th>\n",
       "      <th>NOV</th>\n",
       "      <th>DEC</th>\n",
       "      <th>ANN</th>\n",
       "      <th>Jan-Feb</th>\n",
       "      <th>Mar-May</th>\n",
       "      <th>Jun-Sep</th>\n",
       "      <th>Oct-Dec</th>\n",
       "    </tr>\n",
       "  </thead>\n",
       "  <tbody>\n",
       "    <tr>\n",
       "      <th>0</th>\n",
       "      <td>1901</td>\n",
       "      <td>34.7</td>\n",
       "      <td>38.6</td>\n",
       "      <td>17.8</td>\n",
       "      <td>38.9</td>\n",
       "      <td>50.6</td>\n",
       "      <td>113.2</td>\n",
       "      <td>241.4</td>\n",
       "      <td>271.6</td>\n",
       "      <td>124.7</td>\n",
       "      <td>52.4</td>\n",
       "      <td>38.7</td>\n",
       "      <td>8.2</td>\n",
       "      <td>1030.8</td>\n",
       "      <td>73.2</td>\n",
       "      <td>107.3</td>\n",
       "      <td>751.0</td>\n",
       "      <td>99.3</td>\n",
       "    </tr>\n",
       "    <tr>\n",
       "      <th>1</th>\n",
       "      <td>1902</td>\n",
       "      <td>7.4</td>\n",
       "      <td>4.2</td>\n",
       "      <td>19.0</td>\n",
       "      <td>44.1</td>\n",
       "      <td>48.8</td>\n",
       "      <td>111.7</td>\n",
       "      <td>284.9</td>\n",
       "      <td>201.0</td>\n",
       "      <td>200.2</td>\n",
       "      <td>62.5</td>\n",
       "      <td>29.4</td>\n",
       "      <td>25.2</td>\n",
       "      <td>1038.4</td>\n",
       "      <td>11.6</td>\n",
       "      <td>111.9</td>\n",
       "      <td>797.8</td>\n",
       "      <td>117.2</td>\n",
       "    </tr>\n",
       "    <tr>\n",
       "      <th>2</th>\n",
       "      <td>1903</td>\n",
       "      <td>16.7</td>\n",
       "      <td>8.0</td>\n",
       "      <td>31.1</td>\n",
       "      <td>17.1</td>\n",
       "      <td>59.5</td>\n",
       "      <td>120.3</td>\n",
       "      <td>293.2</td>\n",
       "      <td>274.0</td>\n",
       "      <td>198.1</td>\n",
       "      <td>119.5</td>\n",
       "      <td>40.3</td>\n",
       "      <td>18.0</td>\n",
       "      <td>1195.9</td>\n",
       "      <td>24.7</td>\n",
       "      <td>107.7</td>\n",
       "      <td>885.6</td>\n",
       "      <td>177.8</td>\n",
       "    </tr>\n",
       "    <tr>\n",
       "      <th>3</th>\n",
       "      <td>1904</td>\n",
       "      <td>14.9</td>\n",
       "      <td>9.7</td>\n",
       "      <td>31.4</td>\n",
       "      <td>33.7</td>\n",
       "      <td>73.8</td>\n",
       "      <td>165.5</td>\n",
       "      <td>260.3</td>\n",
       "      <td>207.7</td>\n",
       "      <td>130.8</td>\n",
       "      <td>69.8</td>\n",
       "      <td>11.2</td>\n",
       "      <td>16.4</td>\n",
       "      <td>1025.1</td>\n",
       "      <td>24.5</td>\n",
       "      <td>138.8</td>\n",
       "      <td>764.3</td>\n",
       "      <td>97.4</td>\n",
       "    </tr>\n",
       "    <tr>\n",
       "      <th>4</th>\n",
       "      <td>1905</td>\n",
       "      <td>24.7</td>\n",
       "      <td>20.3</td>\n",
       "      <td>41.8</td>\n",
       "      <td>33.8</td>\n",
       "      <td>55.8</td>\n",
       "      <td>93.7</td>\n",
       "      <td>253.0</td>\n",
       "      <td>201.7</td>\n",
       "      <td>178.1</td>\n",
       "      <td>54.9</td>\n",
       "      <td>9.6</td>\n",
       "      <td>10.1</td>\n",
       "      <td>977.5</td>\n",
       "      <td>45.0</td>\n",
       "      <td>131.4</td>\n",
       "      <td>726.4</td>\n",
       "      <td>74.7</td>\n",
       "    </tr>\n",
       "    <tr>\n",
       "      <th>...</th>\n",
       "      <td>...</td>\n",
       "      <td>...</td>\n",
       "      <td>...</td>\n",
       "      <td>...</td>\n",
       "      <td>...</td>\n",
       "      <td>...</td>\n",
       "      <td>...</td>\n",
       "      <td>...</td>\n",
       "      <td>...</td>\n",
       "      <td>...</td>\n",
       "      <td>...</td>\n",
       "      <td>...</td>\n",
       "      <td>...</td>\n",
       "      <td>...</td>\n",
       "      <td>...</td>\n",
       "      <td>...</td>\n",
       "      <td>...</td>\n",
       "      <td>...</td>\n",
       "    </tr>\n",
       "    <tr>\n",
       "      <th>108</th>\n",
       "      <td>2009</td>\n",
       "      <td>12.0</td>\n",
       "      <td>12.0</td>\n",
       "      <td>14.2</td>\n",
       "      <td>25.1</td>\n",
       "      <td>56.0</td>\n",
       "      <td>85.7</td>\n",
       "      <td>280.7</td>\n",
       "      <td>192.5</td>\n",
       "      <td>139.4</td>\n",
       "      <td>71.4</td>\n",
       "      <td>53.7</td>\n",
       "      <td>11.1</td>\n",
       "      <td>953.7</td>\n",
       "      <td>24.0</td>\n",
       "      <td>95.3</td>\n",
       "      <td>698.3</td>\n",
       "      <td>136.1</td>\n",
       "    </tr>\n",
       "    <tr>\n",
       "      <th>109</th>\n",
       "      <td>2010</td>\n",
       "      <td>7.5</td>\n",
       "      <td>17.0</td>\n",
       "      <td>14.0</td>\n",
       "      <td>39.0</td>\n",
       "      <td>73.8</td>\n",
       "      <td>138.1</td>\n",
       "      <td>300.7</td>\n",
       "      <td>274.7</td>\n",
       "      <td>197.7</td>\n",
       "      <td>69.0</td>\n",
       "      <td>61.4</td>\n",
       "      <td>22.7</td>\n",
       "      <td>1215.5</td>\n",
       "      <td>24.5</td>\n",
       "      <td>126.8</td>\n",
       "      <td>911.1</td>\n",
       "      <td>153.2</td>\n",
       "    </tr>\n",
       "    <tr>\n",
       "      <th>110</th>\n",
       "      <td>2011</td>\n",
       "      <td>6.8</td>\n",
       "      <td>25.8</td>\n",
       "      <td>22.4</td>\n",
       "      <td>41.1</td>\n",
       "      <td>53.1</td>\n",
       "      <td>183.5</td>\n",
       "      <td>246.0</td>\n",
       "      <td>284.9</td>\n",
       "      <td>186.9</td>\n",
       "      <td>38.1</td>\n",
       "      <td>20.1</td>\n",
       "      <td>7.6</td>\n",
       "      <td>1116.3</td>\n",
       "      <td>32.6</td>\n",
       "      <td>116.6</td>\n",
       "      <td>901.3</td>\n",
       "      <td>65.8</td>\n",
       "    </tr>\n",
       "    <tr>\n",
       "      <th>111</th>\n",
       "      <td>2012</td>\n",
       "      <td>26.5</td>\n",
       "      <td>12.7</td>\n",
       "      <td>11.3</td>\n",
       "      <td>47.5</td>\n",
       "      <td>31.7</td>\n",
       "      <td>117.8</td>\n",
       "      <td>250.2</td>\n",
       "      <td>262.4</td>\n",
       "      <td>193.5</td>\n",
       "      <td>58.7</td>\n",
       "      <td>30.7</td>\n",
       "      <td>11.7</td>\n",
       "      <td>1054.7</td>\n",
       "      <td>39.2</td>\n",
       "      <td>90.5</td>\n",
       "      <td>823.9</td>\n",
       "      <td>101.1</td>\n",
       "    </tr>\n",
       "    <tr>\n",
       "      <th>112</th>\n",
       "      <td>2013</td>\n",
       "      <td>11.3</td>\n",
       "      <td>40.1</td>\n",
       "      <td>15.7</td>\n",
       "      <td>30.4</td>\n",
       "      <td>57.8</td>\n",
       "      <td>219.8</td>\n",
       "      <td>310.0</td>\n",
       "      <td>254.7</td>\n",
       "      <td>152.7</td>\n",
       "      <td>129.4</td>\n",
       "      <td>14.0</td>\n",
       "      <td>6.7</td>\n",
       "      <td>1092.5</td>\n",
       "      <td>51.4</td>\n",
       "      <td>103.8</td>\n",
       "      <td>937.2</td>\n",
       "      <td>150.1</td>\n",
       "    </tr>\n",
       "  </tbody>\n",
       "</table>\n",
       "<p>113 rows × 18 columns</p>\n",
       "</div>"
      ],
      "text/plain": [
       "     YEAR   JAN   FEB   MAR   APR   MAY    JUN    JUL    AUG    SEP    OCT  \\\n",
       "0    1901  34.7  38.6  17.8  38.9  50.6  113.2  241.4  271.6  124.7   52.4   \n",
       "1    1902   7.4   4.2  19.0  44.1  48.8  111.7  284.9  201.0  200.2   62.5   \n",
       "2    1903  16.7   8.0  31.1  17.1  59.5  120.3  293.2  274.0  198.1  119.5   \n",
       "3    1904  14.9   9.7  31.4  33.7  73.8  165.5  260.3  207.7  130.8   69.8   \n",
       "4    1905  24.7  20.3  41.8  33.8  55.8   93.7  253.0  201.7  178.1   54.9   \n",
       "..    ...   ...   ...   ...   ...   ...    ...    ...    ...    ...    ...   \n",
       "108  2009  12.0  12.0  14.2  25.1  56.0   85.7  280.7  192.5  139.4   71.4   \n",
       "109  2010   7.5  17.0  14.0  39.0  73.8  138.1  300.7  274.7  197.7   69.0   \n",
       "110  2011   6.8  25.8  22.4  41.1  53.1  183.5  246.0  284.9  186.9   38.1   \n",
       "111  2012  26.5  12.7  11.3  47.5  31.7  117.8  250.2  262.4  193.5   58.7   \n",
       "112  2013  11.3  40.1  15.7  30.4  57.8  219.8  310.0  254.7  152.7  129.4   \n",
       "\n",
       "      NOV   DEC     ANN  Jan-Feb  Mar-May  Jun-Sep  Oct-Dec  \n",
       "0    38.7   8.2  1030.8     73.2    107.3    751.0     99.3  \n",
       "1    29.4  25.2  1038.4     11.6    111.9    797.8    117.2  \n",
       "2    40.3  18.0  1195.9     24.7    107.7    885.6    177.8  \n",
       "3    11.2  16.4  1025.1     24.5    138.8    764.3     97.4  \n",
       "4     9.6  10.1   977.5     45.0    131.4    726.4     74.7  \n",
       "..    ...   ...     ...      ...      ...      ...      ...  \n",
       "108  53.7  11.1   953.7     24.0     95.3    698.3    136.1  \n",
       "109  61.4  22.7  1215.5     24.5    126.8    911.1    153.2  \n",
       "110  20.1   7.6  1116.3     32.6    116.6    901.3     65.8  \n",
       "111  30.7  11.7  1054.7     39.2     90.5    823.9    101.1  \n",
       "112  14.0   6.7  1092.5     51.4    103.8    937.2    150.1  \n",
       "\n",
       "[113 rows x 18 columns]"
      ]
     },
     "execution_count": 4,
     "metadata": {},
     "output_type": "execute_result"
    }
   ],
   "source": [
    "file"
   ]
  },
  {
   "cell_type": "code",
   "execution_count": 55,
   "metadata": {},
   "outputs": [],
   "source": [
    "x = file['YEAR']"
   ]
  },
  {
   "cell_type": "code",
   "execution_count": 56,
   "metadata": {},
   "outputs": [
    {
     "data": {
      "text/plain": [
       "0      1901\n",
       "1      1902\n",
       "2      1903\n",
       "3      1904\n",
       "4      1905\n",
       "       ... \n",
       "108    2009\n",
       "109    2010\n",
       "110    2011\n",
       "111    2012\n",
       "112    2013\n",
       "Name: YEAR, Length: 113, dtype: int64"
      ]
     },
     "execution_count": 56,
     "metadata": {},
     "output_type": "execute_result"
    }
   ],
   "source": [
    "x"
   ]
  },
  {
   "cell_type": "code",
   "execution_count": 61,
   "metadata": {},
   "outputs": [],
   "source": [
    "y = file['Jun-Sep']"
   ]
  },
  {
   "cell_type": "code",
   "execution_count": 62,
   "metadata": {},
   "outputs": [
    {
     "data": {
      "text/plain": [
       "0      751.0\n",
       "1      797.8\n",
       "2      885.6\n",
       "3      764.3\n",
       "4      726.4\n",
       "       ...  \n",
       "108    698.3\n",
       "109    911.1\n",
       "110    901.3\n",
       "111    823.9\n",
       "112    937.2\n",
       "Name: Jun-Sep, Length: 113, dtype: float64"
      ]
     },
     "execution_count": 62,
     "metadata": {},
     "output_type": "execute_result"
    }
   ],
   "source": [
    "y"
   ]
  },
  {
   "cell_type": "code",
   "execution_count": 64,
   "metadata": {},
   "outputs": [
    {
     "data": {
      "image/png": "[encoded data removed]",
      "text/plain": [
       "<Figure size 432x288 with 1 Axes>"
      ]
     },
     "metadata": {},
     "output_type": "display_data"
    }
   ],
   "source": [
    "plt.bar(x,y)\n",
    "plt.title(\"Year vs JJAS Rainfall\")\n",
    "plt.xlabel(\"YEARS\")\n",
    "plt.ylabel(\"JJAS\")\n",
    "plt.show()"
   ]
  },
  {
   "cell_type": "code",
   "execution_count": 83,
   "metadata": {},
   "outputs": [],
   "source": [
    "#New plot\n",
    "file1 = pd.read_csv(\"datafile.csv\")"
   ]
  },
  {
   "cell_type": "code",
   "execution_count": 84,
   "metadata": {},
   "outputs": [
    {
     "data": {
      "text/html": [
       "<div>\n",
       "<style scoped>\n",
       "    .dataframe tbody tr th:only-of-type {\n",
       "        vertical-align: middle;\n",
       "    }\n",
       "\n",
       "    .dataframe tbody tr th {\n",
       "        vertical-align: top;\n",
       "    }\n",
       "\n",
       "    .dataframe thead th {\n",
       "        text-align: right;\n",
       "    }\n",
       "</style>\n",
       "<table border=\"1\" class=\"dataframe\">\n",
       "  <thead>\n",
       "    <tr style=\"text-align: right;\">\n",
       "      <th></th>\n",
       "      <th>YEAR</th>\n",
       "      <th>JAN</th>\n",
       "      <th>FEB</th>\n",
       "      <th>MAR</th>\n",
       "      <th>APR</th>\n",
       "      <th>MAY</th>\n",
       "      <th>JUN</th>\n",
       "      <th>JUL</th>\n",
       "      <th>AUG</th>\n",
       "      <th>SEP</th>\n",
       "      <th>OCT</th>\n",
       "      <th>NOV</th>\n",
       "      <th>DEC</th>\n",
       "      <th>ANN</th>\n",
       "      <th>Jan-Feb</th>\n",
       "      <th>Mar-May</th>\n",
       "      <th>Jun-Sep</th>\n",
       "      <th>Oct-Dec</th>\n",
       "    </tr>\n",
       "  </thead>\n",
       "  <tbody>\n",
       "    <tr>\n",
       "      <th>0</th>\n",
       "      <td>1901</td>\n",
       "      <td>34.7</td>\n",
       "      <td>38.6</td>\n",
       "      <td>17.8</td>\n",
       "      <td>38.9</td>\n",
       "      <td>50.6</td>\n",
       "      <td>113.2</td>\n",
       "      <td>241.4</td>\n",
       "      <td>271.6</td>\n",
       "      <td>124.7</td>\n",
       "      <td>52.4</td>\n",
       "      <td>38.7</td>\n",
       "      <td>8.2</td>\n",
       "      <td>1030.8</td>\n",
       "      <td>73.2</td>\n",
       "      <td>107.3</td>\n",
       "      <td>751.0</td>\n",
       "      <td>99.3</td>\n",
       "    </tr>\n",
       "    <tr>\n",
       "      <th>1</th>\n",
       "      <td>1902</td>\n",
       "      <td>7.4</td>\n",
       "      <td>4.2</td>\n",
       "      <td>19.0</td>\n",
       "      <td>44.1</td>\n",
       "      <td>48.8</td>\n",
       "      <td>111.7</td>\n",
       "      <td>284.9</td>\n",
       "      <td>201.0</td>\n",
       "      <td>200.2</td>\n",
       "      <td>62.5</td>\n",
       "      <td>29.4</td>\n",
       "      <td>25.2</td>\n",
       "      <td>1038.4</td>\n",
       "      <td>11.6</td>\n",
       "      <td>111.9</td>\n",
       "      <td>797.8</td>\n",
       "      <td>117.2</td>\n",
       "    </tr>\n",
       "    <tr>\n",
       "      <th>2</th>\n",
       "      <td>1903</td>\n",
       "      <td>16.7</td>\n",
       "      <td>8.0</td>\n",
       "      <td>31.1</td>\n",
       "      <td>17.1</td>\n",
       "      <td>59.5</td>\n",
       "      <td>120.3</td>\n",
       "      <td>293.2</td>\n",
       "      <td>274.0</td>\n",
       "      <td>198.1</td>\n",
       "      <td>119.5</td>\n",
       "      <td>40.3</td>\n",
       "      <td>18.0</td>\n",
       "      <td>1195.9</td>\n",
       "      <td>24.7</td>\n",
       "      <td>107.7</td>\n",
       "      <td>885.6</td>\n",
       "      <td>177.8</td>\n",
       "    </tr>\n",
       "    <tr>\n",
       "      <th>3</th>\n",
       "      <td>1904</td>\n",
       "      <td>14.9</td>\n",
       "      <td>9.7</td>\n",
       "      <td>31.4</td>\n",
       "      <td>33.7</td>\n",
       "      <td>73.8</td>\n",
       "      <td>165.5</td>\n",
       "      <td>260.3</td>\n",
       "      <td>207.7</td>\n",
       "      <td>130.8</td>\n",
       "      <td>69.8</td>\n",
       "      <td>11.2</td>\n",
       "      <td>16.4</td>\n",
       "      <td>1025.1</td>\n",
       "      <td>24.5</td>\n",
       "      <td>138.8</td>\n",
       "      <td>764.3</td>\n",
       "      <td>97.4</td>\n",
       "    </tr>\n",
       "    <tr>\n",
       "      <th>4</th>\n",
       "      <td>1905</td>\n",
       "      <td>24.7</td>\n",
       "      <td>20.3</td>\n",
       "      <td>41.8</td>\n",
       "      <td>33.8</td>\n",
       "      <td>55.8</td>\n",
       "      <td>93.7</td>\n",
       "      <td>253.0</td>\n",
       "      <td>201.7</td>\n",
       "      <td>178.1</td>\n",
       "      <td>54.9</td>\n",
       "      <td>9.6</td>\n",
       "      <td>10.1</td>\n",
       "      <td>977.5</td>\n",
       "      <td>45.0</td>\n",
       "      <td>131.4</td>\n",
       "      <td>726.4</td>\n",
       "      <td>74.7</td>\n",
       "    </tr>\n",
       "    <tr>\n",
       "      <th>...</th>\n",
       "      <td>...</td>\n",
       "      <td>...</td>\n",
       "      <td>...</td>\n",
       "      <td>...</td>\n",
       "      <td>...</td>\n",
       "      <td>...</td>\n",
       "      <td>...</td>\n",
       "      <td>...</td>\n",
       "      <td>...</td>\n",
       "      <td>...</td>\n",
       "      <td>...</td>\n",
       "      <td>...</td>\n",
       "      <td>...</td>\n",
       "      <td>...</td>\n",
       "      <td>...</td>\n",
       "      <td>...</td>\n",
       "      <td>...</td>\n",
       "      <td>...</td>\n",
       "    </tr>\n",
       "    <tr>\n",
       "      <th>108</th>\n",
       "      <td>2009</td>\n",
       "      <td>12.0</td>\n",
       "      <td>12.0</td>\n",
       "      <td>14.2</td>\n",
       "      <td>25.1</td>\n",
       "      <td>56.0</td>\n",
       "      <td>85.7</td>\n",
       "      <td>280.7</td>\n",
       "      <td>192.5</td>\n",
       "      <td>139.4</td>\n",
       "      <td>71.4</td>\n",
       "      <td>53.7</td>\n",
       "      <td>11.1</td>\n",
       "      <td>953.7</td>\n",
       "      <td>24.0</td>\n",
       "      <td>95.3</td>\n",
       "      <td>698.3</td>\n",
       "      <td>136.1</td>\n",
       "    </tr>\n",
       "    <tr>\n",
       "      <th>109</th>\n",
       "      <td>2010</td>\n",
       "      <td>7.5</td>\n",
       "      <td>17.0</td>\n",
       "      <td>14.0</td>\n",
       "      <td>39.0</td>\n",
       "      <td>73.8</td>\n",
       "      <td>138.1</td>\n",
       "      <td>300.7</td>\n",
       "      <td>274.7</td>\n",
       "      <td>197.7</td>\n",
       "      <td>69.0</td>\n",
       "      <td>61.4</td>\n",
       "      <td>22.7</td>\n",
       "      <td>1215.5</td>\n",
       "      <td>24.5</td>\n",
       "      <td>126.8</td>\n",
       "      <td>911.1</td>\n",
       "      <td>153.2</td>\n",
       "    </tr>\n",
       "    <tr>\n",
       "      <th>110</th>\n",
       "      <td>2011</td>\n",
       "      <td>6.8</td>\n",
       "      <td>25.8</td>\n",
       "      <td>22.4</td>\n",
       "      <td>41.1</td>\n",
       "      <td>53.1</td>\n",
       "      <td>183.5</td>\n",
       "      <td>246.0</td>\n",
       "      <td>284.9</td>\n",
       "      <td>186.9</td>\n",
       "      <td>38.1</td>\n",
       "      <td>20.1</td>\n",
       "      <td>7.6</td>\n",
       "      <td>1116.3</td>\n",
       "      <td>32.6</td>\n",
       "      <td>116.6</td>\n",
       "      <td>901.3</td>\n",
       "      <td>65.8</td>\n",
       "    </tr>\n",
       "    <tr>\n",
       "      <th>111</th>\n",
       "      <td>2012</td>\n",
       "      <td>26.5</td>\n",
       "      <td>12.7</td>\n",
       "      <td>11.3</td>\n",
       "      <td>47.5</td>\n",
       "      <td>31.7</td>\n",
       "      <td>117.8</td>\n",
       "      <td>250.2</td>\n",
       "      <td>262.4</td>\n",
       "      <td>193.5</td>\n",
       "      <td>58.7</td>\n",
       "      <td>30.7</td>\n",
       "      <td>11.7</td>\n",
       "      <td>1054.7</td>\n",
       "      <td>39.2</td>\n",
       "      <td>90.5</td>\n",
       "      <td>823.9</td>\n",
       "      <td>101.1</td>\n",
       "    </tr>\n",
       "    <tr>\n",
       "      <th>112</th>\n",
       "      <td>2013</td>\n",
       "      <td>11.3</td>\n",
       "      <td>40.1</td>\n",
       "      <td>15.7</td>\n",
       "      <td>30.4</td>\n",
       "      <td>57.8</td>\n",
       "      <td>219.8</td>\n",
       "      <td>310.0</td>\n",
       "      <td>254.7</td>\n",
       "      <td>152.7</td>\n",
       "      <td>129.4</td>\n",
       "      <td>14.0</td>\n",
       "      <td>6.7</td>\n",
       "      <td>1092.5</td>\n",
       "      <td>51.4</td>\n",
       "      <td>103.8</td>\n",
       "      <td>937.2</td>\n",
       "      <td>150.1</td>\n",
       "    </tr>\n",
       "  </tbody>\n",
       "</table>\n",
       "<p>113 rows × 18 columns</p>\n",
       "</div>"
      ],
      "text/plain": [
       "     YEAR   JAN   FEB   MAR   APR   MAY    JUN    JUL    AUG    SEP    OCT  \\\n",
       "0    1901  34.7  38.6  17.8  38.9  50.6  113.2  241.4  271.6  124.7   52.4   \n",
       "1    1902   7.4   4.2  19.0  44.1  48.8  111.7  284.9  201.0  200.2   62.5   \n",
       "2    1903  16.7   8.0  31.1  17.1  59.5  120.3  293.2  274.0  198.1  119.5   \n",
       "3    1904  14.9   9.7  31.4  33.7  73.8  165.5  260.3  207.7  130.8   69.8   \n",
       "4    1905  24.7  20.3  41.8  33.8  55.8   93.7  253.0  201.7  178.1   54.9   \n",
       "..    ...   ...   ...   ...   ...   ...    ...    ...    ...    ...    ...   \n",
       "108  2009  12.0  12.0  14.2  25.1  56.0   85.7  280.7  192.5  139.4   71.4   \n",
       "109  2010   7.5  17.0  14.0  39.0  73.8  138.1  300.7  274.7  197.7   69.0   \n",
       "110  2011   6.8  25.8  22.4  41.1  53.1  183.5  246.0  284.9  186.9   38.1   \n",
       "111  2012  26.5  12.7  11.3  47.5  31.7  117.8  250.2  262.4  193.5   58.7   \n",
       "112  2013  11.3  40.1  15.7  30.4  57.8  219.8  310.0  254.7  152.7  129.4   \n",
       "\n",
       "      NOV   DEC     ANN  Jan-Feb  Mar-May  Jun-Sep  Oct-Dec  \n",
       "0    38.7   8.2  1030.8     73.2    107.3    751.0     99.3  \n",
       "1    29.4  25.2  1038.4     11.6    111.9    797.8    117.2  \n",
       "2    40.3  18.0  1195.9     24.7    107.7    885.6    177.8  \n",
       "3    11.2  16.4  1025.1     24.5    138.8    764.3     97.4  \n",
       "4     9.6  10.1   977.5     45.0    131.4    726.4     74.7  \n",
       "..    ...   ...     ...      ...      ...      ...      ...  \n",
       "108  53.7  11.1   953.7     24.0     95.3    698.3    136.1  \n",
       "109  61.4  22.7  1215.5     24.5    126.8    911.1    153.2  \n",
       "110  20.1   7.6  1116.3     32.6    116.6    901.3     65.8  \n",
       "111  30.7  11.7  1054.7     39.2     90.5    823.9    101.1  \n",
       "112  14.0   6.7  1092.5     51.4    103.8    937.2    150.1  \n",
       "\n",
       "[113 rows x 18 columns]"
      ]
     },
     "execution_count": 84,
     "metadata": {},
     "output_type": "execute_result"
    }
   ],
   "source": [
    "file1"
   ]
  },
  {
   "cell_type": "code",
   "execution_count": 9,
   "metadata": {},
   "outputs": [
    {
     "ename": "NameError",
     "evalue": "name 'file1' is not defined",
     "output_type": "error",
     "traceback": [
      "\u001b[0;31m---------------------------------------------------------------------------\u001b[0m",
      "\u001b[0;31mNameError\u001b[0m                                 Traceback (most recent call last)",
      "\u001b[0;32m<ipython-input-9-d06c8ddcc867>\u001b[0m in \u001b[0;36m<module>\u001b[0;34m\u001b[0m\n\u001b[0;32m----> 1\u001b[0;31m \u001b[0mfile1\u001b[0m\u001b[0;34m.\u001b[0m\u001b[0mplot\u001b[0m\u001b[0;34m(\u001b[0m\u001b[0mx\u001b[0m\u001b[0;34m=\u001b[0m\u001b[0;34m'YEAR'\u001b[0m\u001b[0;34m,\u001b[0m \u001b[0my\u001b[0m\u001b[0;34m=\u001b[0m\u001b[0;34m[\u001b[0m\u001b[0;34m'JAN'\u001b[0m\u001b[0;34m,\u001b[0m\u001b[0;34m'FEB'\u001b[0m\u001b[0;34m,\u001b[0m\u001b[0;34m'MAR'\u001b[0m\u001b[0;34m,\u001b[0m\u001b[0;34m'Jan-Feb'\u001b[0m\u001b[0;34m]\u001b[0m\u001b[0;34m,\u001b[0m \u001b[0mfigsize\u001b[0m\u001b[0;34m=\u001b[0m\u001b[0;34m(\u001b[0m\u001b[0;36m10\u001b[0m\u001b[0;34m,\u001b[0m\u001b[0;36m8\u001b[0m\u001b[0;34m)\u001b[0m\u001b[0;34m,\u001b[0m \u001b[0mgrid\u001b[0m\u001b[0;34m=\u001b[0m\u001b[0;32mFalse\u001b[0m\u001b[0;34m,\u001b[0m \u001b[0mkind\u001b[0m\u001b[0;34m=\u001b[0m\u001b[0;34m'bar'\u001b[0m\u001b[0;34m)\u001b[0m\u001b[0;34m\u001b[0m\u001b[0;34m\u001b[0m\u001b[0m\n\u001b[0m",
      "\u001b[0;31mNameError\u001b[0m: name 'file1' is not defined"
     ]
    }
   ],
   "source": [
    "file1.plot(x='YEAR', y=['JAN','FEB','MAR','Jan-Feb'], figsize=(10,8), grid=False, kind='bar')\n"
   ]
  },
  {
   "cell_type": "code",
   "execution_count": 134,
   "metadata": {},
   "outputs": [
    {
     "data": {
      "text/plain": [
       "0      1901\n",
       "1      1902\n",
       "2      1903\n",
       "3      1904\n",
       "4      1905\n",
       "       ... \n",
       "108    2009\n",
       "109    2010\n",
       "110    2011\n",
       "111    2012\n",
       "112    2013\n",
       "Name: YEAR, Length: 113, dtype: int64"
      ]
     },
     "execution_count": 134,
     "metadata": {},
     "output_type": "execute_result"
    }
   ],
   "source": [
    "x = file1.YEAR\n",
    "x\n"
   ]
  },
  {
   "cell_type": "code",
   "execution_count": 137,
   "metadata": {},
   "outputs": [
    {
     "data": {
      "text/plain": [
       "0      10.308\n",
       "1      10.384\n",
       "2      11.959\n",
       "3      10.251\n",
       "4       9.775\n",
       "        ...  \n",
       "108     9.537\n",
       "109    12.155\n",
       "110    11.163\n",
       "111    10.547\n",
       "112    10.925\n",
       "Name: ANN, Length: 113, dtype: float64"
      ]
     },
     "execution_count": 137,
     "metadata": {},
     "output_type": "execute_result"
    }
   ],
   "source": [
    "\n",
    "y = file1.ANN/100\n",
    "y"
   ]
  },
  {
   "cell_type": "code",
   "execution_count": 161,
   "metadata": {},
   "outputs": [
    {
     "data": {
      "text/plain": [
       "0      2.716\n",
       "1      2.010\n",
       "2      2.740\n",
       "3      2.077\n",
       "4      2.017\n",
       "       ...  \n",
       "108    1.925\n",
       "109    2.747\n",
       "110    2.849\n",
       "111    2.624\n",
       "112    2.547\n",
       "Name: AUG, Length: 113, dtype: float64"
      ]
     },
     "execution_count": 161,
     "metadata": {},
     "output_type": "execute_result"
    }
   ],
   "source": [
    "z = file1.AUG/100\n",
    "\n",
    "z"
   ]
  },
  {
   "cell_type": "code",
   "execution_count": 167,
   "metadata": {},
   "outputs": [
    {
     "data": {
      "text/plain": [
       "[<matplotlib.lines.Line2D at 0x7f304332c128>]"
      ]
     },
     "execution_count": 167,
     "metadata": {},
     "output_type": "execute_result"
    },
    {
     "data": {
      "image/png": "[encoded data removed]",
      "text/plain": [
       "<Figure size 432x288 with 1 Axes>"
      ]
     },
     "metadata": {},
     "output_type": "display_data"
    }
   ],
   "source": [
    "plt.bar(x,y)\n",
    "plt.plot(x,z, 'r')"
   ]
  },
  {
   "cell_type": "code",
   "execution_count": 7,
   "metadata": {},
   "outputs": [],
   "source": [
    "import matplotlib.pyplot as plt\n",
    "\n"
   ]
  },
  {
   "cell_type": "code",
   "execution_count": 6,
   "metadata": {},
   "outputs": [
    {
     "ename": "NameError",
     "evalue": "name 'file1' is not defined",
     "output_type": "error",
     "traceback": [
      "\u001b[0;31m---------------------------------------------------------------------------\u001b[0m",
      "\u001b[0;31mNameError\u001b[0m                                 Traceback (most recent call last)",
      "\u001b[0;32m<ipython-input-6-0293a01050d2>\u001b[0m in \u001b[0;36m<module>\u001b[0;34m\u001b[0m\n\u001b[0;32m----> 1\u001b[0;31m \u001b[0myear1\u001b[0m \u001b[0;34m=\u001b[0m \u001b[0mfile1\u001b[0m\u001b[0;34m[\u001b[0m\u001b[0mfile1\u001b[0m\u001b[0;34m.\u001b[0m\u001b[0mYEAR\u001b[0m \u001b[0;34m==\u001b[0m \u001b[0;36m2013\u001b[0m \u001b[0;34m]\u001b[0m\u001b[0;34m\u001b[0m\u001b[0;34m\u001b[0m\u001b[0m\n\u001b[0m",
      "\u001b[0;31mNameError\u001b[0m: name 'file1' is not defined"
     ]
    }
   ],
   "source": [
    "year1 = file1[file1.YEAR == 2013 ]"
   ]
  },
  {
   "cell_type": "code",
   "execution_count": 73,
   "metadata": {},
   "outputs": [
    {
     "data": {
      "text/html": [
       "<div>\n",
       "<style scoped>\n",
       "    .dataframe tbody tr th:only-of-type {\n",
       "        vertical-align: middle;\n",
       "    }\n",
       "\n",
       "    .dataframe tbody tr th {\n",
       "        vertical-align: top;\n",
       "    }\n",
       "\n",
       "    .dataframe thead th {\n",
       "        text-align: right;\n",
       "    }\n",
       "</style>\n",
       "<table border=\"1\" class=\"dataframe\">\n",
       "  <thead>\n",
       "    <tr style=\"text-align: right;\">\n",
       "      <th></th>\n",
       "      <th>YEAR</th>\n",
       "      <th>JAN</th>\n",
       "      <th>FEB</th>\n",
       "      <th>MAR</th>\n",
       "      <th>APR</th>\n",
       "      <th>MAY</th>\n",
       "      <th>JUN</th>\n",
       "      <th>JUL</th>\n",
       "      <th>AUG</th>\n",
       "      <th>SEP</th>\n",
       "      <th>OCT</th>\n",
       "      <th>NOV</th>\n",
       "      <th>DEC</th>\n",
       "      <th>ANN</th>\n",
       "      <th>Jan-Feb</th>\n",
       "      <th>Mar-May</th>\n",
       "      <th>Jun-Sep</th>\n",
       "      <th>Oct-Dec</th>\n",
       "    </tr>\n",
       "  </thead>\n",
       "  <tbody>\n",
       "    <tr>\n",
       "      <th>112</th>\n",
       "      <td>2013</td>\n",
       "      <td>11.3</td>\n",
       "      <td>40.1</td>\n",
       "      <td>15.7</td>\n",
       "      <td>30.4</td>\n",
       "      <td>57.8</td>\n",
       "      <td>219.8</td>\n",
       "      <td>310.0</td>\n",
       "      <td>254.7</td>\n",
       "      <td>152.7</td>\n",
       "      <td>129.4</td>\n",
       "      <td>14.0</td>\n",
       "      <td>6.7</td>\n",
       "      <td>1092.5</td>\n",
       "      <td>51.4</td>\n",
       "      <td>103.8</td>\n",
       "      <td>937.2</td>\n",
       "      <td>150.1</td>\n",
       "    </tr>\n",
       "  </tbody>\n",
       "</table>\n",
       "</div>"
      ],
      "text/plain": [
       "     YEAR   JAN   FEB   MAR   APR   MAY    JUN    JUL    AUG    SEP    OCT  \\\n",
       "112  2013  11.3  40.1  15.7  30.4  57.8  219.8  310.0  254.7  152.7  129.4   \n",
       "\n",
       "      NOV  DEC     ANN  Jan-Feb  Mar-May  Jun-Sep  Oct-Dec  \n",
       "112  14.0  6.7  1092.5     51.4    103.8    937.2    150.1  "
      ]
     },
     "execution_count": 73,
     "metadata": {},
     "output_type": "execute_result"
    }
   ],
   "source": [
    "year1"
   ]
  },
  {
   "cell_type": "code",
   "execution_count": 3,
   "metadata": {},
   "outputs": [
    {
     "ename": "NameError",
     "evalue": "name 'plt' is not defined",
     "output_type": "error",
     "traceback": [
      "\u001b[0;31m---------------------------------------------------------------------------\u001b[0m",
      "\u001b[0;31mNameError\u001b[0m                                 Traceback (most recent call last)",
      "\u001b[0;32m<ipython-input-3-b2d2f8cc1b68>\u001b[0m in \u001b[0;36m<module>\u001b[0;34m\u001b[0m\n\u001b[0;32m----> 1\u001b[0;31m \u001b[0mplt\u001b[0m\u001b[0;34m.\u001b[0m\u001b[0mplot\u001b[0m\u001b[0;34m(\u001b[0m\u001b[0myear1\u001b[0m\u001b[0;34m.\u001b[0m\u001b[0mJAN\u001b[0m\u001b[0;34m)\u001b[0m\u001b[0;34m\u001b[0m\u001b[0;34m\u001b[0m\u001b[0m\n\u001b[0m",
      "\u001b[0;31mNameError\u001b[0m: name 'plt' is not defined"
     ]
    }
   ],
   "source": [
    "plt.plot(year1.JAN)"
   ]
  },
  {
   "cell_type": "code",
   "execution_count": 121,
   "metadata": {},
   "outputs": [],
   "source": [
    "months = file[ \"JAN\"]"
   ]
  },
  {
   "cell_type": "code",
   "execution_count": 122,
   "metadata": {},
   "outputs": [
    {
     "data": {
      "text/plain": [
       "0      34.7\n",
       "1       7.4\n",
       "2      16.7\n",
       "3      14.9\n",
       "4      24.7\n",
       "       ... \n",
       "108    12.0\n",
       "109     7.5\n",
       "110     6.8\n",
       "111    26.5\n",
       "112    11.3\n",
       "Name: JAN, Length: 113, dtype: float64"
      ]
     },
     "execution_count": 122,
     "metadata": {},
     "output_type": "execute_result"
    }
   ],
   "source": [
    "months"
   ]
  },
  {
   "cell_type": "code",
   "execution_count": 126,
   "metadata": {},
   "outputs": [
    {
     "data": {
      "text/plain": [
       "[<matplotlib.lines.Line2D at 0x7f3043ff7eb8>]"
      ]
     },
     "execution_count": 126,
     "metadata": {},
     "output_type": "execute_result"
    },
    {
     "data": {
      "image/png": "[encoded data removed]",
      "text/plain": [
       "<Figure size 432x288 with 1 Axes>"
      ]
     },
     "metadata": {},
     "output_type": "display_data"
    }
   ],
   "source": [
    "plt.plot(months)"
   ]
  },
  {
   "cell_type": "code",
   "execution_count": null,
   "metadata": {},
   "outputs": [],
   "source": [
    "#"
   ]
  },
  {
   "cell_type": "code",
   "execution_count": null,
   "metadata": {},
   "outputs": [],
   "source": []
  }
 ],
 "metadata": {
  "kernelspec": {
   "display_name": "Python 3",
   "language": "python",
   "name": "python3"
  },
  "language_info": {
   "codemirror_mode": {
    "name": "ipython",
    "version": 3
   },
   "file_extension": ".py",
   "mimetype": "text/x-python",
   "name": "python",
   "nbconvert_exporter": "python",
   "pygments_lexer": "ipython3",
   "version": "3.6.9"
  }
 },
 "nbformat": 4,
 "nbformat_minor": 2
}
