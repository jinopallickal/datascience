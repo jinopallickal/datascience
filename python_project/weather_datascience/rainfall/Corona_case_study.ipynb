{
 "cells": [
  {
   "cell_type": "code",
   "execution_count": 1,
   "metadata": {},
   "outputs": [],
   "source": [
    "import pandas as pd"
   ]
  },
  {
   "cell_type": "code",
   "execution_count": 3,
   "metadata": {},
   "outputs": [],
   "source": [
    "c = pd.read_csv('corona.csv')"
   ]
  },
  {
   "cell_type": "code",
   "execution_count": 4,
   "metadata": {},
   "outputs": [
    {
     "data": {
      "text/html": [
       "<div>\n",
       "<style scoped>\n",
       "    .dataframe tbody tr th:only-of-type {\n",
       "        vertical-align: middle;\n",
       "    }\n",
       "\n",
       "    .dataframe tbody tr th {\n",
       "        vertical-align: top;\n",
       "    }\n",
       "\n",
       "    .dataframe thead th {\n",
       "        text-align: right;\n",
       "    }\n",
       "</style>\n",
       "<table border=\"1\" class=\"dataframe\">\n",
       "  <thead>\n",
       "    <tr style=\"text-align: right;\">\n",
       "      <th></th>\n",
       "      <th>Unnamed: 0</th>\n",
       "      <th>Country</th>\n",
       "      <th>Total_cases</th>\n",
       "      <th>New_cases</th>\n",
       "      <th>Totat_Death</th>\n",
       "      <th>New_Death</th>\n",
       "      <th>Total_Recovered</th>\n",
       "      <th>Active_Case</th>\n",
       "      <th>Serious_case</th>\n",
       "      <th>Total_Cases per 10m pop</th>\n",
       "    </tr>\n",
       "  </thead>\n",
       "  <tbody>\n",
       "    <tr>\n",
       "      <th>0</th>\n",
       "      <td>NaN</td>\n",
       "      <td>China</td>\n",
       "      <td>80796</td>\n",
       "      <td>18.0</td>\n",
       "      <td>3169.0</td>\n",
       "      <td>11.0</td>\n",
       "      <td>62813.0</td>\n",
       "      <td>14814</td>\n",
       "      <td>4257.0</td>\n",
       "      <td>56.1</td>\n",
       "    </tr>\n",
       "    <tr>\n",
       "      <th>1</th>\n",
       "      <td>NaN</td>\n",
       "      <td>Italy</td>\n",
       "      <td>12462</td>\n",
       "      <td>NaN</td>\n",
       "      <td>827.0</td>\n",
       "      <td>NaN</td>\n",
       "      <td>1045.0</td>\n",
       "      <td>10590</td>\n",
       "      <td>1028.0</td>\n",
       "      <td>206.1</td>\n",
       "    </tr>\n",
       "    <tr>\n",
       "      <th>2</th>\n",
       "      <td>NaN</td>\n",
       "      <td>Iran</td>\n",
       "      <td>9000</td>\n",
       "      <td>NaN</td>\n",
       "      <td>354.0</td>\n",
       "      <td>NaN</td>\n",
       "      <td>2959.0</td>\n",
       "      <td>5687</td>\n",
       "      <td>NaN</td>\n",
       "      <td>107.2</td>\n",
       "    </tr>\n",
       "    <tr>\n",
       "      <th>3</th>\n",
       "      <td>NaN</td>\n",
       "      <td>S. Korea</td>\n",
       "      <td>7869</td>\n",
       "      <td>114.0</td>\n",
       "      <td>66.0</td>\n",
       "      <td>6.0</td>\n",
       "      <td>333.0</td>\n",
       "      <td>7470</td>\n",
       "      <td>54.0</td>\n",
       "      <td>153.5</td>\n",
       "    </tr>\n",
       "    <tr>\n",
       "      <th>4</th>\n",
       "      <td>NaN</td>\n",
       "      <td>France</td>\n",
       "      <td>2281</td>\n",
       "      <td>NaN</td>\n",
       "      <td>48.0</td>\n",
       "      <td>NaN</td>\n",
       "      <td>12.0</td>\n",
       "      <td>2221</td>\n",
       "      <td>105.0</td>\n",
       "      <td>34.9</td>\n",
       "    </tr>\n",
       "    <tr>\n",
       "      <th>...</th>\n",
       "      <td>...</td>\n",
       "      <td>...</td>\n",
       "      <td>...</td>\n",
       "      <td>...</td>\n",
       "      <td>...</td>\n",
       "      <td>...</td>\n",
       "      <td>...</td>\n",
       "      <td>...</td>\n",
       "      <td>...</td>\n",
       "      <td>...</td>\n",
       "    </tr>\n",
       "    <tr>\n",
       "      <th>120</th>\n",
       "      <td>NaN</td>\n",
       "      <td>Réunion</td>\n",
       "      <td>1</td>\n",
       "      <td>NaN</td>\n",
       "      <td>NaN</td>\n",
       "      <td>NaN</td>\n",
       "      <td>NaN</td>\n",
       "      <td>1</td>\n",
       "      <td>NaN</td>\n",
       "      <td>NaN</td>\n",
       "    </tr>\n",
       "    <tr>\n",
       "      <th>121</th>\n",
       "      <td>NaN</td>\n",
       "      <td>St. Barth</td>\n",
       "      <td>1</td>\n",
       "      <td>NaN</td>\n",
       "      <td>NaN</td>\n",
       "      <td>NaN</td>\n",
       "      <td>NaN</td>\n",
       "      <td>1</td>\n",
       "      <td>NaN</td>\n",
       "      <td>NaN</td>\n",
       "    </tr>\n",
       "    <tr>\n",
       "      <th>122</th>\n",
       "      <td>NaN</td>\n",
       "      <td>Togo</td>\n",
       "      <td>1</td>\n",
       "      <td>NaN</td>\n",
       "      <td>NaN</td>\n",
       "      <td>NaN</td>\n",
       "      <td>NaN</td>\n",
       "      <td>1</td>\n",
       "      <td>NaN</td>\n",
       "      <td>0.1</td>\n",
       "    </tr>\n",
       "    <tr>\n",
       "      <th>123</th>\n",
       "      <td>NaN</td>\n",
       "      <td>Turkey</td>\n",
       "      <td>1</td>\n",
       "      <td>NaN</td>\n",
       "      <td>NaN</td>\n",
       "      <td>NaN</td>\n",
       "      <td>NaN</td>\n",
       "      <td>1</td>\n",
       "      <td>NaN</td>\n",
       "      <td>NaN</td>\n",
       "    </tr>\n",
       "    <tr>\n",
       "      <th>124</th>\n",
       "      <td>NaN</td>\n",
       "      <td>Total:</td>\n",
       "      <td>126621</td>\n",
       "      <td>432.0</td>\n",
       "      <td>4638.0</td>\n",
       "      <td>22.0</td>\n",
       "      <td>68322.0</td>\n",
       "      <td>53661</td>\n",
       "      <td>5708.0</td>\n",
       "      <td>16.2</td>\n",
       "    </tr>\n",
       "  </tbody>\n",
       "</table>\n",
       "<p>125 rows × 10 columns</p>\n",
       "</div>"
      ],
      "text/plain": [
       "     Unnamed: 0    Country  Total_cases  New_cases  Totat_Death  New_Death  \\\n",
       "0           NaN      China        80796       18.0       3169.0       11.0   \n",
       "1           NaN      Italy        12462        NaN        827.0        NaN   \n",
       "2           NaN       Iran         9000        NaN        354.0        NaN   \n",
       "3           NaN   S. Korea         7869      114.0         66.0        6.0   \n",
       "4           NaN     France         2281        NaN         48.0        NaN   \n",
       "..          ...        ...          ...        ...          ...        ...   \n",
       "120         NaN    Réunion            1        NaN          NaN        NaN   \n",
       "121         NaN  St. Barth            1        NaN          NaN        NaN   \n",
       "122         NaN       Togo            1        NaN          NaN        NaN   \n",
       "123         NaN     Turkey            1        NaN          NaN        NaN   \n",
       "124         NaN     Total:       126621      432.0       4638.0       22.0   \n",
       "\n",
       "     Total_Recovered  Active_Case  Serious_case  Total_Cases per 10m pop  \n",
       "0            62813.0        14814        4257.0                     56.1  \n",
       "1             1045.0        10590        1028.0                    206.1  \n",
       "2             2959.0         5687           NaN                    107.2  \n",
       "3              333.0         7470          54.0                    153.5  \n",
       "4               12.0         2221         105.0                     34.9  \n",
       "..               ...          ...           ...                      ...  \n",
       "120              NaN            1           NaN                      NaN  \n",
       "121              NaN            1           NaN                      NaN  \n",
       "122              NaN            1           NaN                      0.1  \n",
       "123              NaN            1           NaN                      NaN  \n",
       "124          68322.0        53661        5708.0                     16.2  \n",
       "\n",
       "[125 rows x 10 columns]"
      ]
     },
     "execution_count": 4,
     "metadata": {},
     "output_type": "execute_result"
    }
   ],
   "source": [
    "c"
   ]
  },
  {
   "cell_type": "code",
   "execution_count": 20,
   "metadata": {},
   "outputs": [],
   "source": [
    "china = c[c.Country == 'China']"
   ]
  },
  {
   "cell_type": "code",
   "execution_count": 21,
   "metadata": {},
   "outputs": [
    {
     "data": {
      "text/html": [
       "<div>\n",
       "<style scoped>\n",
       "    .dataframe tbody tr th:only-of-type {\n",
       "        vertical-align: middle;\n",
       "    }\n",
       "\n",
       "    .dataframe tbody tr th {\n",
       "        vertical-align: top;\n",
       "    }\n",
       "\n",
       "    .dataframe thead th {\n",
       "        text-align: right;\n",
       "    }\n",
       "</style>\n",
       "<table border=\"1\" class=\"dataframe\">\n",
       "  <thead>\n",
       "    <tr style=\"text-align: right;\">\n",
       "      <th></th>\n",
       "      <th>Unnamed: 0</th>\n",
       "      <th>Country</th>\n",
       "      <th>Total_cases</th>\n",
       "      <th>New_cases</th>\n",
       "      <th>Totat_Death</th>\n",
       "      <th>New_Death</th>\n",
       "      <th>Total_Recovered</th>\n",
       "      <th>Active_Case</th>\n",
       "      <th>Serious_case</th>\n",
       "      <th>Total_Cases per 10m pop</th>\n",
       "    </tr>\n",
       "  </thead>\n",
       "  <tbody>\n",
       "    <tr>\n",
       "      <th>0</th>\n",
       "      <td>NaN</td>\n",
       "      <td>China</td>\n",
       "      <td>80796</td>\n",
       "      <td>18.0</td>\n",
       "      <td>3169.0</td>\n",
       "      <td>11.0</td>\n",
       "      <td>62813.0</td>\n",
       "      <td>14814</td>\n",
       "      <td>4257.0</td>\n",
       "      <td>56.1</td>\n",
       "    </tr>\n",
       "  </tbody>\n",
       "</table>\n",
       "</div>"
      ],
      "text/plain": [
       "   Unnamed: 0 Country  Total_cases  New_cases  Totat_Death  New_Death  \\\n",
       "0         NaN   China        80796       18.0       3169.0       11.0   \n",
       "\n",
       "   Total_Recovered  Active_Case  Serious_case  Total_Cases per 10m pop  \n",
       "0          62813.0        14814        4257.0                     56.1  "
      ]
     },
     "execution_count": 21,
     "metadata": {},
     "output_type": "execute_result"
    }
   ],
   "source": [
    "china"
   ]
  },
  {
   "cell_type": "code",
   "execution_count": 13,
   "metadata": {},
   "outputs": [],
   "source": [
    "import matplotlib.pyplot as plt"
   ]
  },
  {
   "cell_type": "code",
   "execution_count": 24,
   "metadata": {},
   "outputs": [],
   "source": [
    "italy = c[c.Country == 'Italy']"
   ]
  },
  {
   "cell_type": "code",
   "execution_count": 43,
   "metadata": {},
   "outputs": [
    {
     "name": "stdout",
     "output_type": "stream",
     "text": [
      "Country\n",
      "Total:          4638.0\n",
      "China           3169.0\n",
      "Italy            827.0\n",
      "Iran             354.0\n",
      "S. Korea          66.0\n",
      "                 ...  \n",
      "Turkey             NaN\n",
      "UAE                NaN\n",
      "Ukraine            NaN\n",
      "Vatican City       NaN\n",
      "Vietnam            NaN\n",
      "Name: Totat_Death, Length: 125, dtype: float64\n"
     ]
    }
   ],
   "source": [
    "print(c.groupby('Country').mean().sort_values(by='', ascending=False)['Totat_Death'])"
   ]
  },
  {
   "cell_type": "code",
   "execution_count": 81,
   "metadata": {},
   "outputs": [],
   "source": [
    "country = c['Country']"
   ]
  },
  {
   "cell_type": "code",
   "execution_count": 89,
   "metadata": {},
   "outputs": [
    {
     "data": {
      "text/plain": [
       "0                China\n",
       "1                Italy\n",
       "2                 Iran\n",
       "3             S. Korea\n",
       "4               France\n",
       "5                Spain\n",
       "6              Germany\n",
       "7                  USA\n",
       "8     Diamond Princess\n",
       "9          Switzerland\n",
       "10               Japan\n",
       "11              Norway\n",
       "12             Denmark\n",
       "13         Netherlands\n",
       "14              Sweden\n",
       "15                  UK\n",
       "16             Belgium\n",
       "17             Austria\n",
       "18               Qatar\n",
       "19             Bahrain\n",
       "Name: Country, dtype: object"
      ]
     },
     "execution_count": 89,
     "metadata": {},
     "output_type": "execute_result"
    }
   ],
   "source": [
    "x = country.iloc[0:20]\n",
    "x"
   ]
  },
  {
   "cell_type": "code",
   "execution_count": 92,
   "metadata": {},
   "outputs": [],
   "source": [
    "Total_Death = c['Totat_Death']\n",
    "y = Total_Death.iloc[0:20]"
   ]
  },
  {
   "cell_type": "code",
   "execution_count": 98,
   "metadata": {},
   "outputs": [
    {
     "data": {
      "text/plain": [
       "Text(0.5, 1.0, 'Corona deaths - global')"
      ]
     },
     "execution_count": 98,
     "metadata": {},
     "output_type": "execute_result"
    },
    {
     "data": {
      "image/png": "[encoded data removed]",
      "text/plain": [
       "<Figure size 432x288 with 1 Axes>"
      ]
     },
     "metadata": {},
     "output_type": "display_data"
    }
   ],
   "source": [
    "\n",
    "\n",
    "\n",
    "\n",
    "plt.bar(x,y)\n",
    "plt.xticks(x,rotation=90)\n",
    "plt.xlabel('Countries')\n",
    "plt.ylabel('No of Deaths')\n",
    "plt.title('Corona deaths - global')"
   ]
  },
  {
   "cell_type": "code",
   "execution_count": 100,
   "metadata": {},
   "outputs": [
    {
     "data": {
      "text/html": [
       "<div>\n",
       "<style scoped>\n",
       "    .dataframe tbody tr th:only-of-type {\n",
       "        vertical-align: middle;\n",
       "    }\n",
       "\n",
       "    .dataframe tbody tr th {\n",
       "        vertical-align: top;\n",
       "    }\n",
       "\n",
       "    .dataframe thead th {\n",
       "        text-align: right;\n",
       "    }\n",
       "</style>\n",
       "<table border=\"1\" class=\"dataframe\">\n",
       "  <thead>\n",
       "    <tr style=\"text-align: right;\">\n",
       "      <th></th>\n",
       "      <th>Unnamed: 0</th>\n",
       "      <th>Country</th>\n",
       "      <th>Total_cases</th>\n",
       "      <th>New_cases</th>\n",
       "      <th>Totat_Death</th>\n",
       "      <th>New_Death</th>\n",
       "      <th>Total_Recovered</th>\n",
       "      <th>Active_Case</th>\n",
       "      <th>Serious_case</th>\n",
       "      <th>Total_Cases per 10m pop</th>\n",
       "    </tr>\n",
       "  </thead>\n",
       "  <tbody>\n",
       "    <tr>\n",
       "      <th>0</th>\n",
       "      <td>NaN</td>\n",
       "      <td>China</td>\n",
       "      <td>80796</td>\n",
       "      <td>18.0</td>\n",
       "      <td>3169.0</td>\n",
       "      <td>11.0</td>\n",
       "      <td>62813.0</td>\n",
       "      <td>14814</td>\n",
       "      <td>4257.0</td>\n",
       "      <td>56.1</td>\n",
       "    </tr>\n",
       "    <tr>\n",
       "      <th>1</th>\n",
       "      <td>NaN</td>\n",
       "      <td>Italy</td>\n",
       "      <td>12462</td>\n",
       "      <td>NaN</td>\n",
       "      <td>827.0</td>\n",
       "      <td>NaN</td>\n",
       "      <td>1045.0</td>\n",
       "      <td>10590</td>\n",
       "      <td>1028.0</td>\n",
       "      <td>206.1</td>\n",
       "    </tr>\n",
       "    <tr>\n",
       "      <th>2</th>\n",
       "      <td>NaN</td>\n",
       "      <td>Iran</td>\n",
       "      <td>9000</td>\n",
       "      <td>NaN</td>\n",
       "      <td>354.0</td>\n",
       "      <td>NaN</td>\n",
       "      <td>2959.0</td>\n",
       "      <td>5687</td>\n",
       "      <td>NaN</td>\n",
       "      <td>107.2</td>\n",
       "    </tr>\n",
       "    <tr>\n",
       "      <th>3</th>\n",
       "      <td>NaN</td>\n",
       "      <td>S. Korea</td>\n",
       "      <td>7869</td>\n",
       "      <td>114.0</td>\n",
       "      <td>66.0</td>\n",
       "      <td>6.0</td>\n",
       "      <td>333.0</td>\n",
       "      <td>7470</td>\n",
       "      <td>54.0</td>\n",
       "      <td>153.5</td>\n",
       "    </tr>\n",
       "    <tr>\n",
       "      <th>4</th>\n",
       "      <td>NaN</td>\n",
       "      <td>France</td>\n",
       "      <td>2281</td>\n",
       "      <td>NaN</td>\n",
       "      <td>48.0</td>\n",
       "      <td>NaN</td>\n",
       "      <td>12.0</td>\n",
       "      <td>2221</td>\n",
       "      <td>105.0</td>\n",
       "      <td>34.9</td>\n",
       "    </tr>\n",
       "    <tr>\n",
       "      <th>...</th>\n",
       "      <td>...</td>\n",
       "      <td>...</td>\n",
       "      <td>...</td>\n",
       "      <td>...</td>\n",
       "      <td>...</td>\n",
       "      <td>...</td>\n",
       "      <td>...</td>\n",
       "      <td>...</td>\n",
       "      <td>...</td>\n",
       "      <td>...</td>\n",
       "    </tr>\n",
       "    <tr>\n",
       "      <th>120</th>\n",
       "      <td>NaN</td>\n",
       "      <td>Réunion</td>\n",
       "      <td>1</td>\n",
       "      <td>NaN</td>\n",
       "      <td>NaN</td>\n",
       "      <td>NaN</td>\n",
       "      <td>NaN</td>\n",
       "      <td>1</td>\n",
       "      <td>NaN</td>\n",
       "      <td>NaN</td>\n",
       "    </tr>\n",
       "    <tr>\n",
       "      <th>121</th>\n",
       "      <td>NaN</td>\n",
       "      <td>St. Barth</td>\n",
       "      <td>1</td>\n",
       "      <td>NaN</td>\n",
       "      <td>NaN</td>\n",
       "      <td>NaN</td>\n",
       "      <td>NaN</td>\n",
       "      <td>1</td>\n",
       "      <td>NaN</td>\n",
       "      <td>NaN</td>\n",
       "    </tr>\n",
       "    <tr>\n",
       "      <th>122</th>\n",
       "      <td>NaN</td>\n",
       "      <td>Togo</td>\n",
       "      <td>1</td>\n",
       "      <td>NaN</td>\n",
       "      <td>NaN</td>\n",
       "      <td>NaN</td>\n",
       "      <td>NaN</td>\n",
       "      <td>1</td>\n",
       "      <td>NaN</td>\n",
       "      <td>0.1</td>\n",
       "    </tr>\n",
       "    <tr>\n",
       "      <th>123</th>\n",
       "      <td>NaN</td>\n",
       "      <td>Turkey</td>\n",
       "      <td>1</td>\n",
       "      <td>NaN</td>\n",
       "      <td>NaN</td>\n",
       "      <td>NaN</td>\n",
       "      <td>NaN</td>\n",
       "      <td>1</td>\n",
       "      <td>NaN</td>\n",
       "      <td>NaN</td>\n",
       "    </tr>\n",
       "    <tr>\n",
       "      <th>124</th>\n",
       "      <td>NaN</td>\n",
       "      <td>Total:</td>\n",
       "      <td>126621</td>\n",
       "      <td>432.0</td>\n",
       "      <td>4638.0</td>\n",
       "      <td>22.0</td>\n",
       "      <td>68322.0</td>\n",
       "      <td>53661</td>\n",
       "      <td>5708.0</td>\n",
       "      <td>16.2</td>\n",
       "    </tr>\n",
       "  </tbody>\n",
       "</table>\n",
       "<p>125 rows × 10 columns</p>\n",
       "</div>"
      ],
      "text/plain": [
       "     Unnamed: 0    Country  Total_cases  New_cases  Totat_Death  New_Death  \\\n",
       "0           NaN      China        80796       18.0       3169.0       11.0   \n",
       "1           NaN      Italy        12462        NaN        827.0        NaN   \n",
       "2           NaN       Iran         9000        NaN        354.0        NaN   \n",
       "3           NaN   S. Korea         7869      114.0         66.0        6.0   \n",
       "4           NaN     France         2281        NaN         48.0        NaN   \n",
       "..          ...        ...          ...        ...          ...        ...   \n",
       "120         NaN    Réunion            1        NaN          NaN        NaN   \n",
       "121         NaN  St. Barth            1        NaN          NaN        NaN   \n",
       "122         NaN       Togo            1        NaN          NaN        NaN   \n",
       "123         NaN     Turkey            1        NaN          NaN        NaN   \n",
       "124         NaN     Total:       126621      432.0       4638.0       22.0   \n",
       "\n",
       "     Total_Recovered  Active_Case  Serious_case  Total_Cases per 10m pop  \n",
       "0            62813.0        14814        4257.0                     56.1  \n",
       "1             1045.0        10590        1028.0                    206.1  \n",
       "2             2959.0         5687           NaN                    107.2  \n",
       "3              333.0         7470          54.0                    153.5  \n",
       "4               12.0         2221         105.0                     34.9  \n",
       "..               ...          ...           ...                      ...  \n",
       "120              NaN            1           NaN                      NaN  \n",
       "121              NaN            1           NaN                      NaN  \n",
       "122              NaN            1           NaN                      0.1  \n",
       "123              NaN            1           NaN                      NaN  \n",
       "124          68322.0        53661        5708.0                     16.2  \n",
       "\n",
       "[125 rows x 10 columns]"
      ]
     },
     "execution_count": 100,
     "metadata": {},
     "output_type": "execute_result"
    }
   ],
   "source": [
    "#total recovered and active cases since March 12th \n",
    "\n",
    "import pandas as pd\n",
    "import matplotlib.pyplot as plt\n",
    "\n",
    "test = pd.read_csv('corona.csv')\n",
    "test"
   ]
  },
  {
   "cell_type": "code",
   "execution_count": 103,
   "metadata": {},
   "outputs": [
    {
     "data": {
      "text/plain": [
       "0                China\n",
       "1                Italy\n",
       "2                 Iran\n",
       "3             S. Korea\n",
       "4               France\n",
       "5                Spain\n",
       "6              Germany\n",
       "7                  USA\n",
       "8     Diamond Princess\n",
       "9          Switzerland\n",
       "10               Japan\n",
       "11              Norway\n",
       "12             Denmark\n",
       "13         Netherlands\n",
       "14              Sweden\n",
       "15                  UK\n",
       "16             Belgium\n",
       "17             Austria\n",
       "18               Qatar\n",
       "19             Bahrain\n",
       "Name: Country, dtype: object"
      ]
     },
     "execution_count": 103,
     "metadata": {},
     "output_type": "execute_result"
    }
   ],
   "source": [
    "country1 = test['Country']\n",
    "x1 = country1.iloc[0:20]\n",
    "x1"
   ]
  },
  {
   "cell_type": "code",
   "execution_count": 104,
   "metadata": {},
   "outputs": [
    {
     "data": {
      "text/plain": [
       "0     80796\n",
       "1     12462\n",
       "2      9000\n",
       "3      7869\n",
       "4      2281\n",
       "5      2277\n",
       "6      1966\n",
       "7      1336\n",
       "8       696\n",
       "9       652\n",
       "10      639\n",
       "11      632\n",
       "12      615\n",
       "13      503\n",
       "14      500\n",
       "15      456\n",
       "16      314\n",
       "17      302\n",
       "18      262\n",
       "19      195\n",
       "Name: Total_cases, dtype: int64"
      ]
     },
     "execution_count": 104,
     "metadata": {},
     "output_type": "execute_result"
    }
   ],
   "source": [
    "Total_cases1 = test['Total_cases']\n",
    "x2 = Total_cases1.iloc[0:20]\n",
    "x2"
   ]
  },
  {
   "cell_type": "code",
   "execution_count": 105,
   "metadata": {},
   "outputs": [
    {
     "data": {
      "text/plain": [
       "0     3169.0\n",
       "1      827.0\n",
       "2      354.0\n",
       "3       66.0\n",
       "4       48.0\n",
       "5       55.0\n",
       "6        3.0\n",
       "7       38.0\n",
       "8        7.0\n",
       "9        4.0\n",
       "10      16.0\n",
       "11       NaN\n",
       "12       NaN\n",
       "13       5.0\n",
       "14       1.0\n",
       "15       8.0\n",
       "16       3.0\n",
       "17       NaN\n",
       "18       NaN\n",
       "19       NaN\n",
       "Name: Totat_Death, dtype: float64"
      ]
     },
     "execution_count": 105,
     "metadata": {},
     "output_type": "execute_result"
    }
   ],
   "source": [
    "Total_Death1 = test['Totat_Death']\n",
    "x3 = Total_Death1.iloc[0:20]\n",
    "x3"
   ]
  },
  {
   "cell_type": "code",
   "execution_count": 106,
   "metadata": {},
   "outputs": [
    {
     "data": {
      "text/plain": [
       "0     62813.0\n",
       "1      1045.0\n",
       "2      2959.0\n",
       "3       333.0\n",
       "4        12.0\n",
       "5       183.0\n",
       "6        25.0\n",
       "7        15.0\n",
       "8       325.0\n",
       "9         4.0\n",
       "10      118.0\n",
       "11        1.0\n",
       "12        1.0\n",
       "13        2.0\n",
       "14        1.0\n",
       "15       18.0\n",
       "16        1.0\n",
       "17        4.0\n",
       "18        NaN\n",
       "19       35.0\n",
       "Name: Total_Recovered, dtype: float64"
      ]
     },
     "execution_count": 106,
     "metadata": {},
     "output_type": "execute_result"
    }
   ],
   "source": [
    "Total_Recovered1 = test['Total_Recovered']\n",
    "x4 = Total_Recovered1.iloc[0:20]\n",
    "x4"
   ]
  },
  {
   "cell_type": "code",
   "execution_count": 107,
   "metadata": {},
   "outputs": [
    {
     "data": {
      "text/plain": [
       "0     14814\n",
       "1     10590\n",
       "2      5687\n",
       "3      7470\n",
       "4      2221\n",
       "5      2039\n",
       "6      1938\n",
       "7      1283\n",
       "8       364\n",
       "9       644\n",
       "10      505\n",
       "11      631\n",
       "12      614\n",
       "13      496\n",
       "14      498\n",
       "15      430\n",
       "16      310\n",
       "17      298\n",
       "18      262\n",
       "19      160\n",
       "Name: Active_Case, dtype: int64"
      ]
     },
     "execution_count": 107,
     "metadata": {},
     "output_type": "execute_result"
    }
   ],
   "source": [
    "Active_Case1 = test['Active_Case']\n",
    "x5 = Active_Case1.iloc[0:20]\n",
    "x5"
   ]
  },
  {
   "cell_type": "code",
   "execution_count": 131,
   "metadata": {},
   "outputs": [
    {
     "data": {
      "image/png": "[encoded data removed]",
      "text/plain": [
       "<Figure size 432x288 with 1 Axes>"
      ]
     },
     "metadata": {},
     "output_type": "display_data"
    }
   ],
   "source": [
    "#plt.plot(x1,x3)\n",
    "plt.bar(x1,x2)\n",
    "plt.bar(x1,x4)\n",
    "plt.xticks(x1,rotation =90)\n",
    "plt.xlabel('Country')\n",
    "plt.ylabel('No of Cases')\n",
    "plt.title('Corona - Global')\n",
    "plt.legend(['Total Cases','Total Recovered'])\n",
    "plt.show()"
   ]
  },
  {
   "cell_type": "code",
   "execution_count": 146,
   "metadata": {},
   "outputs": [
    {
     "data": {
      "text/plain": [
       "<matplotlib.legend.Legend at 0x7f2da9f763c8>"
      ]
     },
     "execution_count": 146,
     "metadata": {},
     "output_type": "execute_result"
    },
    {
     "data": {
      "image/png": "[encoded data removed]",
      "text/plain": [
       "<Figure size 432x288 with 1 Axes>"
      ]
     },
     "metadata": {},
     "output_type": "display_data"
    }
   ],
   "source": [
    "\n",
    "#plt.bar(x1,x3)\n",
    "plt.plot(x1,x2)\n",
    "plt.plot(x1,x5)\n",
    "\n",
    "plt.xticks(rotation =90)\n",
    "plt.legend(['Total cases', 'Active Cases'])"
   ]
  },
  {
   "cell_type": "code",
   "execution_count": 149,
   "metadata": {},
   "outputs": [
    {
     "data": {
      "image/png": "[encoded data removed]",
      "text/plain": [
       "<Figure size 432x288 with 1 Axes>"
      ]
     },
     "metadata": {},
     "output_type": "display_data"
    }
   ],
   "source": [
    "plt.plot(x1,x2)\n",
    "plt.plot(x1,x4)\n",
    "\n",
    "plt.xticks(rotation =90)\n",
    "plt.legend(['Total cases', 'Recovered Cases'])\n",
    "plt.show()"
   ]
  },
  {
   "cell_type": "code",
   "execution_count": 160,
   "metadata": {},
   "outputs": [
    {
     "data": {
      "image/png": "[encoded data removed]",
      "text/plain": [
       "<Figure size 432x288 with 1 Axes>"
      ]
     },
     "metadata": {},
     "output_type": "display_data"
    }
   ],
   "source": [
    "plt.bar(x1,(x2/x3)/100)\n",
    "plt.xticks(rotation =90)\n",
    "plt.show()"
   ]
  },
  {
   "cell_type": "code",
   "execution_count": 168,
   "metadata": {},
   "outputs": [],
   "source": [
    "file1 = pd.read_csv('corona.csv', usecols=['Country','Total_cases','Total_Recovered'])"
   ]
  },
  {
   "cell_type": "code",
   "execution_count": 169,
   "metadata": {},
   "outputs": [
    {
     "data": {
      "text/html": [
       "<div>\n",
       "<style scoped>\n",
       "    .dataframe tbody tr th:only-of-type {\n",
       "        vertical-align: middle;\n",
       "    }\n",
       "\n",
       "    .dataframe tbody tr th {\n",
       "        vertical-align: top;\n",
       "    }\n",
       "\n",
       "    .dataframe thead th {\n",
       "        text-align: right;\n",
       "    }\n",
       "</style>\n",
       "<table border=\"1\" class=\"dataframe\">\n",
       "  <thead>\n",
       "    <tr style=\"text-align: right;\">\n",
       "      <th></th>\n",
       "      <th>Country</th>\n",
       "      <th>Total_cases</th>\n",
       "      <th>Total_Recovered</th>\n",
       "    </tr>\n",
       "  </thead>\n",
       "  <tbody>\n",
       "    <tr>\n",
       "      <th>0</th>\n",
       "      <td>China</td>\n",
       "      <td>80796</td>\n",
       "      <td>62813.0</td>\n",
       "    </tr>\n",
       "    <tr>\n",
       "      <th>1</th>\n",
       "      <td>Italy</td>\n",
       "      <td>12462</td>\n",
       "      <td>1045.0</td>\n",
       "    </tr>\n",
       "    <tr>\n",
       "      <th>2</th>\n",
       "      <td>Iran</td>\n",
       "      <td>9000</td>\n",
       "      <td>2959.0</td>\n",
       "    </tr>\n",
       "    <tr>\n",
       "      <th>3</th>\n",
       "      <td>S. Korea</td>\n",
       "      <td>7869</td>\n",
       "      <td>333.0</td>\n",
       "    </tr>\n",
       "    <tr>\n",
       "      <th>4</th>\n",
       "      <td>France</td>\n",
       "      <td>2281</td>\n",
       "      <td>12.0</td>\n",
       "    </tr>\n",
       "    <tr>\n",
       "      <th>...</th>\n",
       "      <td>...</td>\n",
       "      <td>...</td>\n",
       "      <td>...</td>\n",
       "    </tr>\n",
       "    <tr>\n",
       "      <th>120</th>\n",
       "      <td>Réunion</td>\n",
       "      <td>1</td>\n",
       "      <td>NaN</td>\n",
       "    </tr>\n",
       "    <tr>\n",
       "      <th>121</th>\n",
       "      <td>St. Barth</td>\n",
       "      <td>1</td>\n",
       "      <td>NaN</td>\n",
       "    </tr>\n",
       "    <tr>\n",
       "      <th>122</th>\n",
       "      <td>Togo</td>\n",
       "      <td>1</td>\n",
       "      <td>NaN</td>\n",
       "    </tr>\n",
       "    <tr>\n",
       "      <th>123</th>\n",
       "      <td>Turkey</td>\n",
       "      <td>1</td>\n",
       "      <td>NaN</td>\n",
       "    </tr>\n",
       "    <tr>\n",
       "      <th>124</th>\n",
       "      <td>Total:</td>\n",
       "      <td>126621</td>\n",
       "      <td>68322.0</td>\n",
       "    </tr>\n",
       "  </tbody>\n",
       "</table>\n",
       "<p>125 rows × 3 columns</p>\n",
       "</div>"
      ],
      "text/plain": [
       "       Country  Total_cases  Total_Recovered\n",
       "0        China        80796          62813.0\n",
       "1        Italy        12462           1045.0\n",
       "2         Iran         9000           2959.0\n",
       "3     S. Korea         7869            333.0\n",
       "4       France         2281             12.0\n",
       "..         ...          ...              ...\n",
       "120    Réunion            1              NaN\n",
       "121  St. Barth            1              NaN\n",
       "122       Togo            1              NaN\n",
       "123     Turkey            1              NaN\n",
       "124     Total:       126621          68322.0\n",
       "\n",
       "[125 rows x 3 columns]"
      ]
     },
     "execution_count": 169,
     "metadata": {},
     "output_type": "execute_result"
    }
   ],
   "source": [
    "file1"
   ]
  },
  {
   "cell_type": "code",
   "execution_count": 170,
   "metadata": {},
   "outputs": [
    {
     "data": {
      "text/plain": [
       "<BarContainer object of 125 artists>"
      ]
     },
     "execution_count": 170,
     "metadata": {},
     "output_type": "execute_result"
    },
    {
     "data": {
      "image/png": "[encoded data removed]",
      "text/plain": [
       "<Figure size 432x288 with 1 Axes>"
      ]
     },
     "metadata": {},
     "output_type": "display_data"
    }
   ],
   "source": [
    "plt.bar(file1.Total_cases, file1.Total_Recovered)"
   ]
  },
  {
   "cell_type": "code",
   "execution_count": null,
   "metadata": {},
   "outputs": [],
   "source": []
  }
 ],
 "metadata": {
  "kernelspec": {
   "display_name": "Python 3",
   "language": "python",
   "name": "python3"
  },
  "language_info": {
   "codemirror_mode": {
    "name": "ipython",
    "version": 3
   },
   "file_extension": ".py",
   "mimetype": "text/x-python",
   "name": "python",
   "nbconvert_exporter": "python",
   "pygments_lexer": "ipython3",
   "version": "3.6.9"
  }
 },
 "nbformat": 4,
 "nbformat_minor": 2
}
