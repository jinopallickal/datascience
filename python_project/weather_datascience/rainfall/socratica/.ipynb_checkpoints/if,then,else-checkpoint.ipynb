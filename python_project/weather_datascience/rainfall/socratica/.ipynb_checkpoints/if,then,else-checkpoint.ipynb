{
 "cells": [
  {
   "cell_type": "code",
   "execution_count": 1,
   "metadata": {},
   "outputs": [],
   "source": [
    "#collect a string / test length"
   ]
  },
  {
   "cell_type": "code",
   "execution_count": 6,
   "metadata": {},
   "outputs": [
    {
     "name": "stdout",
     "output_type": "stream",
     "text": [
      "Please typeabcdefg\n",
      "Input is good\n"
     ]
    }
   ],
   "source": [
    "\n",
    "a = input((\"Please type\"))\n",
    "if len(a) < 6:\n",
    "    print(\"Your string is too short\")\n",
    "    \n",
    "else:\n",
    "    print(\"Input is good\")"
   ]
  },
  {
   "cell_type": "code",
   "execution_count": null,
   "metadata": {},
   "outputs": [],
   "source": [
    "#triangle test\n",
    "\n",
    "a = int(input(\"The length of side a = \"))\n",
    "b = int(input(\"The length of side b = \"))\n",
    "c = int(input(\"The length of side c = \"))\n",
    "\n",
    "if a !=b and b != c and c != a:\n",
    "    print(\"Scalene triangle\")\n",
    "    \n",
    "elif a == b and b == c:\n",
    "    print(\"Equilateral triangle\")\n",
    "    \n",
    "else:\n",
    "    print(\"Isoceles triangle\")\n"
   ]
  },
  {
   "cell_type": "code",
   "execution_count": null,
   "metadata": {},
   "outputs": [],
   "source": []
  },
  {
   "cell_type": "code",
   "execution_count": null,
   "metadata": {},
   "outputs": [],
   "source": []
  }
 ],
 "metadata": {
  "kernelspec": {
   "display_name": "Python 3",
   "language": "python",
   "name": "python3"
  },
  "language_info": {
   "codemirror_mode": {
    "name": "ipython",
    "version": 3
   },
   "file_extension": ".py",
   "mimetype": "text/x-python",
   "name": "python",
   "nbconvert_exporter": "python",
   "pygments_lexer": "ipython3",
   "version": "3.6.9"
  }
 },
 "nbformat": 4,
 "nbformat_minor": 2
}
