{
 "cells": [
  {
   "cell_type": "code",
   "execution_count": 8,
   "metadata": {},
   "outputs": [
    {
     "name": "stdout",
     "output_type": "stream",
     "text": [
      "Sum is : 15\n",
      "Difference is : 5\n",
      "product is : 50\n",
      "Divide is : 2\n"
     ]
    }
   ],
   "source": [
    "def add(a,b):\n",
    "    sum = a+b\n",
    "    print('Sum is :',sum)\n",
    "    \n",
    "def sub(a,b):\n",
    "    diff = a-b\n",
    "    print('Difference is :',diff)\n",
    "\n",
    "def mul(a,b):\n",
    "    pro = a*b\n",
    "    print('product is :',pro)    \n",
    "\n",
    "def div(a,b):\n",
    "    di = a//b\n",
    "    print('Divide is :',di)    \n",
    "\n",
    "add(10,5)    \n",
    "sub(10,5)\n",
    "mul(10,5)\n",
    "div(10,5)"
   ]
  },
  {
   "cell_type": "code",
   "execution_count": null,
   "metadata": {},
   "outputs": [],
   "source": []
  }
 ],
 "metadata": {
  "kernelspec": {
   "display_name": "Python 3",
   "language": "python",
   "name": "python3"
  },
  "language_info": {
   "codemirror_mode": {
    "name": "ipython",
    "version": 3
   },
   "file_extension": ".py",
   "mimetype": "text/x-python",
   "name": "python",
   "nbconvert_exporter": "python",
   "pygments_lexer": "ipython3",
   "version": "3.6.9"
  }
 },
 "nbformat": 4,
 "nbformat_minor": 2
}
